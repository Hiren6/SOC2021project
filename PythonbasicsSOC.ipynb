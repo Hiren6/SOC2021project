{
  "nbformat": 4,
  "nbformat_minor": 0,
  "metadata": {
    "colab": {
      "name": "PythonbasicsSOC.ipynb",
      "provenance": [],
      "collapsed_sections": []
    },
    "kernelspec": {
      "name": "python3",
      "display_name": "Python 3"
    },
    "language_info": {
      "name": "python"
    }
  },
  "cells": [
    {
      "cell_type": "code",
      "metadata": {
        "colab": {
          "base_uri": "https://localhost:8080/"
        },
        "id": "lcs_QYlSFOPj",
        "outputId": "be8d45c5-3bc0-4f82-a9c0-f7215dd7f6af"
      },
      "source": [
        "#testing colab notebook\n",
        "print(\"Hey google\")"
      ],
      "execution_count": null,
      "outputs": [
        {
          "output_type": "stream",
          "text": [
            "Hey google\n"
          ],
          "name": "stdout"
        }
      ]
    },
    {
      "cell_type": "code",
      "metadata": {
        "colab": {
          "base_uri": "https://localhost:8080/"
        },
        "id": "XKLytze1FU3H",
        "outputId": "4cbf2b06-1d4f-4e5c-9983-f80b477bedae"
      },
      "source": [
        "#checking out basics\n",
        "a = 40\n",
        "b = 30\n",
        "print(a,b)"
      ],
      "execution_count": null,
      "outputs": [
        {
          "output_type": "stream",
          "text": [
            "40 30\n"
          ],
          "name": "stdout"
        }
      ]
    },
    {
      "cell_type": "code",
      "metadata": {
        "colab": {
          "base_uri": "https://localhost:8080/"
        },
        "id": "ppU29fkCF-cB",
        "outputId": "47d0efbc-36cb-49d8-f420-9c86c5ae8e3e"
      },
      "source": [
        "#playing with numpy as they are faster than lists\n",
        "import numpy as np\n",
        "a = np.array([4,6,3,1,5]) #converts list into np arrays\n",
        "print(np.max(a))\n",
        "print(np.min(a))"
      ],
      "execution_count": null,
      "outputs": [
        {
          "output_type": "stream",
          "text": [
            "6\n",
            "1\n"
          ],
          "name": "stdout"
        }
      ]
    },
    {
      "cell_type": "code",
      "metadata": {
        "id": "HY-_t1WeG_pt",
        "colab": {
          "base_uri": "https://localhost:8080/"
        },
        "outputId": "c1308373-0bf4-47a8-efe7-c8fb2de68ce6"
      },
      "source": [
        "import numpy as np\n",
        "a = np.arange(9.).reshape(3,3)\n",
        "print(a)\n",
        "a = a*2\n",
        "print(a)\n",
        "a[a>=6] = 50.\n",
        "print(a)\n",
        "print(a[0,1])\n",
        "print(a[:,1]) #slicing\n",
        "print(\"Sum is {}\".format(np.sum(a, axis=0))) #axis=0 for column, axis=1 for row"
      ],
      "execution_count": null,
      "outputs": [
        {
          "output_type": "stream",
          "text": [
            "[[0. 1. 2.]\n",
            " [3. 4. 5.]\n",
            " [6. 7. 8.]]\n",
            "[[ 0.  2.  4.]\n",
            " [ 6.  8. 10.]\n",
            " [12. 14. 16.]]\n",
            "[[ 0.  2.  4.]\n",
            " [50. 50. 50.]\n",
            " [50. 50. 50.]]\n",
            "2.0\n",
            "[ 2. 50. 50.]\n",
            "Sum is [100. 102. 104.]\n"
          ],
          "name": "stdout"
        }
      ]
    },
    {
      "cell_type": "code",
      "metadata": {
        "colab": {
          "base_uri": "https://localhost:8080/"
        },
        "id": "46oLyWOgFOTF",
        "outputId": "63e36ba0-09a2-438c-b456-7e6e5d41c7f6"
      },
      "source": [
        "#pandas\n",
        "import pandas as pd\n",
        "\n",
        "ser = pd.Series([5,6,7,8])\n",
        "print(ser)\n",
        "print(ser.values)\n",
        "\n",
        "#dataframes of pandas for data handling\n",
        "scottish_hills = {'Hill Name': ['Ben Nevis', 'Ben Macdui', 'Braeriach', 'Cairn Toul', 'Sgòr an Lochain Uaine'],\n",
        "                  'Height': [1345, 1309, 1296, 1291, 1258],\n",
        "                  'Latitude': [56.79685, 57.070453, 57.078628, 57.054611, 57.057999],\n",
        "                  'Longitude': [-5.003508, -3.668262, -3.728024, -3.71042, -3.725416]}\n",
        "\n",
        "df = pd.DataFrame(scottish_hills) #each column is a series containing values of same data type\n",
        "print(df,\"\\n\")\n",
        "print(df.head(3),\"\\n\") #first three rows\n",
        "print(df[\"Latitude\"],\"\\n\") #access a series(column)\n",
        "#use iloc for particular [row,col] access\n",
        "print(df.iloc[1,0],\"\\n\")\n",
        "#u can treat columnn names as attribute\n",
        "df.Height > 1300"
      ],
      "execution_count": null,
      "outputs": [
        {
          "output_type": "stream",
          "text": [
            "0    5\n",
            "1    6\n",
            "2    7\n",
            "3    8\n",
            "dtype: int64\n",
            "[5 6 7 8]\n",
            "               Hill Name  Height   Latitude  Longitude\n",
            "0              Ben Nevis    1345  56.796850  -5.003508\n",
            "1             Ben Macdui    1309  57.070453  -3.668262\n",
            "2              Braeriach    1296  57.078628  -3.728024\n",
            "3             Cairn Toul    1291  57.054611  -3.710420\n",
            "4  Sgòr an Lochain Uaine    1258  57.057999  -3.725416 \n",
            "\n",
            "    Hill Name  Height   Latitude  Longitude\n",
            "0   Ben Nevis    1345  56.796850  -5.003508\n",
            "1  Ben Macdui    1309  57.070453  -3.668262\n",
            "2   Braeriach    1296  57.078628  -3.728024 \n",
            "\n",
            "0    56.796850\n",
            "1    57.070453\n",
            "2    57.078628\n",
            "3    57.054611\n",
            "4    57.057999\n",
            "Name: Latitude, dtype: float64 \n",
            "\n",
            "Ben Macdui \n",
            "\n"
          ],
          "name": "stdout"
        },
        {
          "output_type": "execute_result",
          "data": {
            "text/plain": [
              "0     True\n",
              "1     True\n",
              "2    False\n",
              "3    False\n",
              "4    False\n",
              "Name: Height, dtype: bool"
            ]
          },
          "metadata": {
            "tags": []
          },
          "execution_count": 42
        }
      ]
    },
    {
      "cell_type": "code",
      "metadata": {
        "id": "NIrMYoHVGMIE"
      },
      "source": [
        ""
      ],
      "execution_count": null,
      "outputs": []
    }
  ]
}